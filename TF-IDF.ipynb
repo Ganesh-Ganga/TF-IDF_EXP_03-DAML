{
 "cells": [
  {
   "cell_type": "code",
   "execution_count": 1,
   "id": "8f20d09b",
   "metadata": {},
   "outputs": [
    {
     "name": "stdout",
     "output_type": "stream",
     "text": [
      "Requirement already satisfied: nltk in c:\\users\\ganes\\qiskit1.0_env\\lib\\site-packages (3.9.1)\n",
      "Requirement already satisfied: click in c:\\users\\ganes\\qiskit1.0_env\\lib\\site-packages (from nltk) (8.2.1)\n",
      "Requirement already satisfied: joblib in c:\\users\\ganes\\qiskit1.0_env\\lib\\site-packages (from nltk) (1.5.1)\n",
      "Requirement already satisfied: regex>=2021.8.3 in c:\\users\\ganes\\qiskit1.0_env\\lib\\site-packages (from nltk) (2024.11.6)\n",
      "Requirement already satisfied: tqdm in c:\\users\\ganes\\qiskit1.0_env\\lib\\site-packages (from nltk) (4.67.1)\n",
      "Requirement already satisfied: colorama in c:\\users\\ganes\\qiskit1.0_env\\lib\\site-packages (from click->nltk) (0.4.6)\n",
      "Note: you may need to restart the kernel to use updated packages.\n"
     ]
    },
    {
     "name": "stderr",
     "output_type": "stream",
     "text": [
      "\n",
      "[notice] A new release of pip is available: 24.0 -> 25.1.1\n",
      "[notice] To update, run: python.exe -m pip install --upgrade pip\n"
     ]
    }
   ],
   "source": [
    "pip install nltk"
   ]
  },
  {
   "cell_type": "code",
   "execution_count": 2,
   "id": "302bc030",
   "metadata": {},
   "outputs": [
    {
     "name": "stderr",
     "output_type": "stream",
     "text": [
      "[nltk_data] Downloading package punkt_tab to\n",
      "[nltk_data]     C:\\Users\\ganes\\AppData\\Roaming\\nltk_data...\n",
      "[nltk_data]   Package punkt_tab is already up-to-date!\n"
     ]
    },
    {
     "data": {
      "text/plain": [
       "True"
      ]
     },
     "execution_count": 2,
     "metadata": {},
     "output_type": "execute_result"
    }
   ],
   "source": [
    "import nltk\n",
    "nltk.download('punkt_tab')"
   ]
  },
  {
   "cell_type": "code",
   "execution_count": 4,
   "id": "88753835",
   "metadata": {},
   "outputs": [
    {
     "name": "stdout",
     "output_type": "stream",
     "text": [
      "✅ Preprocessed documents:\n",
      "Doc 1: apple boy cat\n",
      "Doc 2: apple cat dog\n",
      "Doc 3: dog egg fan\n",
      "\n",
      "✅ TF‑IDF Matrix:\n",
      "          apple       boy       cat      dog       egg       fan\n",
      "Doc 1  0.517856  0.680919  0.517856  0.00000  0.000000  0.000000\n",
      "Doc 2  0.577350  0.000000  0.577350  0.57735  0.000000  0.000000\n",
      "Doc 3  0.000000  0.000000  0.000000  0.47363  0.622766  0.622766\n"
     ]
    }
   ],
   "source": [
    "from pathlib import Path\n",
    "\n",
    "import nltk\n",
    "import pandas as pd\n",
    "from nltk import word_tokenize\n",
    "from nltk.corpus import stopwords\n",
    "from nltk.stem import PorterStemmer\n",
    "from sklearn.feature_extraction.text import TfidfVectorizer\n",
    "\n",
    "# ✅ Download NLTK data if not already downloaded\n",
    "nltk.download('punkt', quiet=True)\n",
    "nltk.download('stopwords', quiet=True)\n",
    "\n",
    "# 📋 Define stopwords, stemmer, and vectorizer\n",
    "stop_words = set(stopwords.words(\"english\"))\n",
    "stemmer = PorterStemmer()\n",
    "vectorizer = TfidfVectorizer()\n",
    "\n",
    "# 📄 Example documents\n",
    "documents = [\n",
    "    \"apple boy cat\",\n",
    "    \"apple cat dog\",\n",
    "    \"dog egg fan\"\n",
    "]\n",
    "\n",
    "# 🔷 Preprocessing: tokenization, stopword removal, stemming\n",
    "preprocessed: list[str] = []\n",
    "for doc in documents:\n",
    "    tokens = word_tokenize(doc)\n",
    "    preprocessed.append(\" \".join(tokens))\n",
    "\n",
    "print(\"✅ Preprocessed documents:\")\n",
    "for i, doc in enumerate(preprocessed, 1):\n",
    "    print(f\"Doc {i}: {doc}\")\n",
    "\n",
    "# 🔷 TF‑IDF\n",
    "X = vectorizer.fit_transform(preprocessed)\n",
    "\n",
    "# 🔷 Convert to pandas DataFrame for readability\n",
    "df = pd.DataFrame(\n",
    "    X.toarray(),\n",
    "    columns=vectorizer.get_feature_names_out(),\n",
    "    index=[f\"Doc {i}\" for i in range(1, len(preprocessed)+1)]\n",
    ")\n",
    "\n",
    "print(\"\\n✅ TF‑IDF Matrix:\")\n",
    "print(df)\n"
   ]
  },
  {
   "cell_type": "code",
   "execution_count": null,
   "id": "7a43f5bf",
   "metadata": {},
   "outputs": [],
   "source": []
  }
 ],
 "metadata": {
  "kernelspec": {
   "display_name": "Python (Qiski1.0t)",
   "language": "python",
   "name": "qiskit1.0_env"
  },
  "language_info": {
   "codemirror_mode": {
    "name": "ipython",
    "version": 3
   },
   "file_extension": ".py",
   "mimetype": "text/x-python",
   "name": "python",
   "nbconvert_exporter": "python",
   "pygments_lexer": "ipython3",
   "version": "3.12.4"
  }
 },
 "nbformat": 4,
 "nbformat_minor": 5
}
